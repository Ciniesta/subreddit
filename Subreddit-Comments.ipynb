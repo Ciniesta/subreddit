{
 "cells": [
  {
   "cell_type": "markdown",
   "metadata": {},
   "source": [
    "# Subreddit scraper\n",
    "\n",
    "Gets all the comments for every submission in a subreddit."
   ]
  },
  {
   "cell_type": "markdown",
   "metadata": {},
   "source": [
    "First we import time and Praw (the The Python Reddit API Wrapper)"
   ]
  },
  {
   "cell_type": "code",
   "execution_count": null,
   "metadata": {
    "collapsed": true
   },
   "outputs": [],
   "source": [
    "import time\n",
    "import praw"
   ]
  },
  {
   "cell_type": "markdown",
   "metadata": {},
   "source": [
    "And create a praw reddit instance (Fill with your info)\n",
    "Info on how to do it here:\n",
    "http://praw.readthedocs.io/en/latest/code_overview/reddit_instance.html"
   ]
  },
  {
   "cell_type": "code",
   "execution_count": null,
   "metadata": {
    "collapsed": true
   },
   "outputs": [],
   "source": [
    "reddit = praw.Reddit(client_id='CLIENT_ID',\n",
    "                     client_secret=\"CLIENT_SECRET\",\n",
    "                     username='USER',\n",
    "                     password='PWD',\n",
    "                     user_agent='AGENT')"
   ]
  },
  {
   "cell_type": "markdown",
   "metadata": {},
   "source": [
    "Choose the subreddit from which you want to get the comments,\n",
    "in my case : https://www.reddit.com/r/AskRedditAfterDark/\n",
    "        "
   ]
  },
  {
   "cell_type": "code",
   "execution_count": 21,
   "metadata": {
    "collapsed": true
   },
   "outputs": [],
   "source": [
    "subreddit_name=\"AskRedditAfterDark\""
   ]
  },
  {
   "cell_type": "markdown",
   "metadata": {},
   "source": [
    "Create the subreddit instace and open the file in which we are going to store the data"
   ]
  },
  {
   "cell_type": "code",
   "execution_count": 22,
   "metadata": {
    "collapsed": true
   },
   "outputs": [],
   "source": [
    "subreddit_object=reddit.subreddit(subreddit_name)\n",
    "file = open(subreddit_name+\".txt\",\"w\",encoding='utf-8') \n"
   ]
  },
  {
   "cell_type": "markdown",
   "metadata": {
    "collapsed": true
   },
   "source": [
    "Reddit was created in 2005, so to get all the commentsin a subreddit, we use a time interval from 2004 until today.\n",
    "You can change the interval to one of your preference"
   ]
  },
  {
   "cell_type": "code",
   "execution_count": null,
   "metadata": {},
   "outputs": [],
   "source": [
    "current_epoch_time = int(time.time())\n",
    "start_time = 1100628372 #2004\n",
    "end_time=current_epoch_time"
   ]
  },
  {
   "cell_type": "markdown",
   "metadata": {},
   "source": [
    "Gets all the comments in the set interval and stores them in the file.\n",
    "Tracks the number of submissions and comments"
   ]
  },
  {
   "cell_type": "code",
   "execution_count": null,
   "metadata": {},
   "outputs": [],
   "source": [
    "count=0\n",
    "comm=0\n",
    "\n",
    "for submission in subreddit_object.submissions(start_time, end_time): \n",
    "    count+=1\n",
    "    submission.comments.replace_more(limit=0) #to get all the comments in a submission\n",
    "    for comment in submission.comments.list():\n",
    "        file.write(comment.body)\n",
    "        comm+=1\n",
    "print(str(count)+\" submissions and \"+str(comm)+\" comments, from subreddit: \",subreddit_name)\n",
    "            \n",
    "\n",
    "    "
   ]
  },
  {
   "cell_type": "code",
   "execution_count": null,
   "metadata": {
    "collapsed": true
   },
   "outputs": [],
   "source": [
    "file.close() \n",
    "\n"
   ]
  },
  {
   "cell_type": "code",
   "execution_count": null,
   "metadata": {},
   "outputs": [],
   "source": []
  }
 ],
 "metadata": {
  "kernelspec": {
   "display_name": "Python 3",
   "language": "python",
   "name": "python3"
  },
  "language_info": {
   "codemirror_mode": {
    "name": "ipython",
    "version": 3
   },
   "file_extension": ".py",
   "mimetype": "text/x-python",
   "name": "python",
   "nbconvert_exporter": "python",
   "pygments_lexer": "ipython3",
   "version": "3.6.1"
  }
 },
 "nbformat": 4,
 "nbformat_minor": 2
}
